{
 "cells": [
  {
   "cell_type": "code",
   "execution_count": 1,
   "id": "82501d6c",
   "metadata": {},
   "outputs": [],
   "source": [
    "def filter_list(some_list):\n",
    "    return [x for x in some_list if isinstance(x, str) == False]"
   ]
  },
  {
   "cell_type": "code",
   "execution_count": 2,
   "id": "9113efbe",
   "metadata": {},
   "outputs": [
    {
     "data": {
      "text/plain": [
       "[1, 2]"
      ]
     },
     "execution_count": 2,
     "metadata": {},
     "output_type": "execute_result"
    }
   ],
   "source": [
    "filter_list([1,2,'a','b'])"
   ]
  },
  {
   "cell_type": "code",
   "execution_count": 3,
   "id": "0eba0112",
   "metadata": {},
   "outputs": [
    {
     "data": {
      "text/plain": [
       "[1, 0, 15]"
      ]
     },
     "execution_count": 3,
     "metadata": {},
     "output_type": "execute_result"
    }
   ],
   "source": [
    "filter_list([1,'a','b',0,15])"
   ]
  },
  {
   "cell_type": "code",
   "execution_count": 4,
   "id": "79c1a6b3",
   "metadata": {},
   "outputs": [
    {
     "data": {
      "text/plain": [
       "[1, 2, 123]"
      ]
     },
     "execution_count": 4,
     "metadata": {},
     "output_type": "execute_result"
    }
   ],
   "source": [
    "filter_list([1,2,'aasf','1','123',123])"
   ]
  },
  {
   "cell_type": "code",
   "execution_count": 5,
   "id": "019d1ca2",
   "metadata": {},
   "outputs": [],
   "source": [
    "def first_non_repeating_letter(some_string):\n",
    "    return_value = None\n",
    "    for x in some_string:\n",
    "        if list(some_string.lower()).count(x.lower()) == 1:\n",
    "            return_value = x\n",
    "            break\n",
    "    return return_value"
   ]
  },
  {
   "cell_type": "code",
   "execution_count": 6,
   "id": "f8953479",
   "metadata": {},
   "outputs": [
    {
     "data": {
      "text/plain": [
       "'t'"
      ]
     },
     "execution_count": 6,
     "metadata": {},
     "output_type": "execute_result"
    }
   ],
   "source": [
    "first_non_repeating_letter('stress')"
   ]
  },
  {
   "cell_type": "code",
   "execution_count": 7,
   "id": "518ce1fa",
   "metadata": {},
   "outputs": [
    {
     "data": {
      "text/plain": [
       "'T'"
      ]
     },
     "execution_count": 7,
     "metadata": {},
     "output_type": "execute_result"
    }
   ],
   "source": [
    "first_non_repeating_letter('sTreSS')"
   ]
  },
  {
   "cell_type": "code",
   "execution_count": 8,
   "id": "3099f0c3",
   "metadata": {},
   "outputs": [
    {
     "name": "stdout",
     "output_type": "stream",
     "text": [
      "None\n"
     ]
    }
   ],
   "source": [
    "print(first_non_repeating_letter('aa'))"
   ]
  },
  {
   "cell_type": "code",
   "execution_count": 9,
   "id": "37151c82",
   "metadata": {},
   "outputs": [],
   "source": [
    "def digital_root(n):\n",
    "    summ = 0\n",
    "    for x in list(str(n)):\n",
    "        summ += int(x)\n",
    "    if summ > 9:\n",
    "        summ = (digital_root(summ))\n",
    "    return summ"
   ]
  },
  {
   "cell_type": "code",
   "execution_count": 10,
   "id": "3c2d2d7e",
   "metadata": {},
   "outputs": [
    {
     "data": {
      "text/plain": [
       "7"
      ]
     },
     "execution_count": 10,
     "metadata": {},
     "output_type": "execute_result"
    }
   ],
   "source": [
    "digital_root(16)"
   ]
  },
  {
   "cell_type": "code",
   "execution_count": 11,
   "id": "3d22b644",
   "metadata": {},
   "outputs": [
    {
     "data": {
      "text/plain": [
       "6"
      ]
     },
     "execution_count": 11,
     "metadata": {},
     "output_type": "execute_result"
    }
   ],
   "source": [
    "digital_root(942)"
   ]
  },
  {
   "cell_type": "code",
   "execution_count": 12,
   "id": "87f567b9",
   "metadata": {},
   "outputs": [
    {
     "data": {
      "text/plain": [
       "6"
      ]
     },
     "execution_count": 12,
     "metadata": {},
     "output_type": "execute_result"
    }
   ],
   "source": [
    "digital_root(132189)"
   ]
  },
  {
   "cell_type": "code",
   "execution_count": 13,
   "id": "93367540",
   "metadata": {},
   "outputs": [
    {
     "data": {
      "text/plain": [
       "2"
      ]
     },
     "execution_count": 13,
     "metadata": {},
     "output_type": "execute_result"
    }
   ],
   "source": [
    "digital_root(493193)"
   ]
  },
  {
   "cell_type": "code",
   "execution_count": 14,
   "id": "cc952ebd",
   "metadata": {},
   "outputs": [],
   "source": [
    "def number_of_pairs(arr, target):\n",
    "    counter = 0\n",
    "    for i in range(len(arr)):\n",
    "        for j in range(i+1, len(arr)):\n",
    "            if arr[i] + arr[j] == target:\n",
    "                counter += 1\n",
    "    return counter"
   ]
  },
  {
   "cell_type": "code",
   "execution_count": 15,
   "id": "a007165f",
   "metadata": {},
   "outputs": [
    {
     "data": {
      "text/plain": [
       "4"
      ]
     },
     "execution_count": 15,
     "metadata": {},
     "output_type": "execute_result"
    }
   ],
   "source": [
    "number_of_pairs([1, 3, 6, 2, 2, 0, 4, 5], 5)"
   ]
  },
  {
   "cell_type": "code",
   "execution_count": 16,
   "id": "83fc6926",
   "metadata": {},
   "outputs": [
    {
     "data": {
      "text/plain": [
       "5"
      ]
     },
     "execution_count": 16,
     "metadata": {},
     "output_type": "execute_result"
    }
   ],
   "source": [
    "number_of_pairs([1, 2, 5, 3, 2, 7, 3, 3, 4, 7, 9, 11], 7)"
   ]
  },
  {
   "cell_type": "code",
   "execution_count": 17,
   "id": "c01996f0",
   "metadata": {},
   "outputs": [],
   "source": [
    "def den_has_friends(some_str):\n",
    "    some_str = some_str.upper()\n",
    "    l = []\n",
    "    for x in some_str.split(';'):\n",
    "        l.append((x.split(':')[1], x.split(':')[0]))\n",
    "    l.sort()\n",
    "    return_string = ''\n",
    "    for x in l:\n",
    "        return_string += str(x)\n",
    "    return return_string"
   ]
  },
  {
   "cell_type": "code",
   "execution_count": 18,
   "id": "a05502cf",
   "metadata": {},
   "outputs": [],
   "source": [
    "s = \"Fired:Corwill;Wilfred:Corwill;Barney:TornBull;Betty:Tornbull;Bjon:Tornbull;Raphael:Corwill;Alfred:Corwill\""
   ]
  },
  {
   "cell_type": "code",
   "execution_count": 19,
   "id": "c4e733d1",
   "metadata": {},
   "outputs": [
    {
     "data": {
      "text/plain": [
       "\"('CORWILL', 'ALFRED')('CORWILL', 'FIRED')('CORWILL', 'RAPHAEL')('CORWILL', 'WILFRED')('TORNBULL', 'BARNEY')('TORNBULL', 'BETTY')('TORNBULL', 'BJON')\""
      ]
     },
     "execution_count": 19,
     "metadata": {},
     "output_type": "execute_result"
    }
   ],
   "source": [
    "den_has_friends(s)"
   ]
  },
  {
   "cell_type": "code",
   "execution_count": 20,
   "id": "fd38cef4",
   "metadata": {},
   "outputs": [],
   "source": [
    "def nextBigger(number):\n",
    "    list_of_numbers = [int(x) for x in str(number)]\n",
    "    for i in range(2, len(list_of_numbers)+1):\n",
    "        if list_of_numbers[-i]<list_of_numbers[-i+1]:\n",
    "            numbers_before_i = list_of_numbers[:-i]\n",
    "            i_number = list_of_numbers[-i]\n",
    "            numbers_after_i = list_of_numbers[-i+1:]\n",
    "            for j in range(1,len(list_of_numbers)+1):\n",
    "                if numbers_after_i[-j] > i_number:\n",
    "                    replace_number = numbers_after_i[-j]\n",
    "                    numbers_after_i.remove(replace_number)\n",
    "                    new_number = numbers_before_i + [replace_number] + sorted([i_number]+numbers_after_i)\n",
    "                    return int(''.join(map(str,new_number)))\n",
    "    return -1"
   ]
  },
  {
   "cell_type": "code",
   "execution_count": 21,
   "id": "3e3ad905",
   "metadata": {},
   "outputs": [
    {
     "data": {
      "text/plain": [
       "21"
      ]
     },
     "execution_count": 21,
     "metadata": {},
     "output_type": "execute_result"
    }
   ],
   "source": [
    "nextBigger(12)"
   ]
  },
  {
   "cell_type": "code",
   "execution_count": 22,
   "id": "45533418",
   "metadata": {},
   "outputs": [
    {
     "data": {
      "text/plain": [
       "531"
      ]
     },
     "execution_count": 22,
     "metadata": {},
     "output_type": "execute_result"
    }
   ],
   "source": [
    "nextBigger(513)"
   ]
  },
  {
   "cell_type": "code",
   "execution_count": 23,
   "id": "fff7a04e",
   "metadata": {},
   "outputs": [
    {
     "data": {
      "text/plain": [
       "2071"
      ]
     },
     "execution_count": 23,
     "metadata": {},
     "output_type": "execute_result"
    }
   ],
   "source": [
    "nextBigger(2017)"
   ]
  },
  {
   "cell_type": "code",
   "execution_count": 24,
   "id": "c7043b27",
   "metadata": {},
   "outputs": [
    {
     "data": {
      "text/plain": [
       "-1"
      ]
     },
     "execution_count": 24,
     "metadata": {},
     "output_type": "execute_result"
    }
   ],
   "source": [
    "nextBigger(11)"
   ]
  },
  {
   "cell_type": "code",
   "execution_count": 25,
   "id": "4511dd0b",
   "metadata": {},
   "outputs": [
    {
     "data": {
      "text/plain": [
       "32467429"
      ]
     },
     "execution_count": 25,
     "metadata": {},
     "output_type": "execute_result"
    }
   ],
   "source": [
    "nextBigger(32467294)"
   ]
  },
  {
   "cell_type": "code",
   "execution_count": 26,
   "id": "aca425fc",
   "metadata": {},
   "outputs": [],
   "source": [
    "def convert_system(number, to_base=10, from_base=10):\n",
    "    num = int(number, from_base) if isinstance(number, str) else number\n",
    "    alphabet = \"0123456789ABCDEFGHIJKLMNOPQRSTUVWXYZ\"\n",
    "    res = \"\"\n",
    "    while num > 0:\n",
    "        num, m = divmod(num, to_base)\n",
    "        res += alphabet[m]\n",
    "    if res != '':\n",
    "        return res[::-1]\n",
    "    else:\n",
    "        return '0'"
   ]
  },
  {
   "cell_type": "code",
   "execution_count": 27,
   "id": "c98a28a5",
   "metadata": {},
   "outputs": [],
   "source": [
    "def get_ip(number_32):\n",
    "    number_2 = convert_system(number_32, 2)\n",
    "    if len(number_2) < 32:\n",
    "        number_2 = (32 - len(number_2)) * '0' + number_2\n",
    "    first_number  = convert_system(number_2[0:8], 10, 2)\n",
    "    second_number = convert_system(number_2[8:16], 10, 2)\n",
    "    third_number  = convert_system(number_2[16:24], 10, 2)\n",
    "    fourth_number = convert_system(number_2[24:32], 10, 2)\n",
    "    return first_number + '.' + second_number + '.' + third_number + '.' + fourth_number"
   ]
  },
  {
   "cell_type": "code",
   "execution_count": 28,
   "id": "f85d8f62",
   "metadata": {},
   "outputs": [
    {
     "data": {
      "text/plain": [
       "'128.32.10.1'"
      ]
     },
     "execution_count": 28,
     "metadata": {},
     "output_type": "execute_result"
    }
   ],
   "source": [
    "get_ip(2149583361)"
   ]
  },
  {
   "cell_type": "code",
   "execution_count": 29,
   "id": "3d9633f8",
   "metadata": {},
   "outputs": [
    {
     "data": {
      "text/plain": [
       "'0.0.0.32'"
      ]
     },
     "execution_count": 29,
     "metadata": {},
     "output_type": "execute_result"
    }
   ],
   "source": [
    "get_ip(32)"
   ]
  },
  {
   "cell_type": "code",
   "execution_count": 30,
   "id": "2669464f",
   "metadata": {},
   "outputs": [
    {
     "data": {
      "text/plain": [
       "'0.0.0.0'"
      ]
     },
     "execution_count": 30,
     "metadata": {},
     "output_type": "execute_result"
    }
   ],
   "source": [
    "get_ip(0)"
   ]
  }
 ],
 "metadata": {
  "kernelspec": {
   "display_name": "Python 3 (ipykernel)",
   "language": "python",
   "name": "python3"
  },
  "language_info": {
   "codemirror_mode": {
    "name": "ipython",
    "version": 3
   },
   "file_extension": ".py",
   "mimetype": "text/x-python",
   "name": "python",
   "nbconvert_exporter": "python",
   "pygments_lexer": "ipython3",
   "version": "3.9.7"
  }
 },
 "nbformat": 4,
 "nbformat_minor": 5
}
